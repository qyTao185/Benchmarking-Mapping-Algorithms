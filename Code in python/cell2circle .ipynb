{
 "cells": [
  {
   "cell_type": "code",
   "execution_count": 1,
   "id": "d8b52afe",
   "metadata": {},
   "outputs": [
    {
     "name": "stderr",
     "output_type": "stream",
     "text": [
      "Global seed set to 0\n",
      "D:\\anaconda\\envs\\cell2loc_env\\lib\\site-packages\\pytorch_lightning-1.7.7-py3.9.egg\\pytorch_lightning\\utilities\\warnings.py:53: LightningDeprecationWarning: pytorch_lightning.utilities.warnings.rank_zero_deprecation has been deprecated in v1.6 and will be removed in v1.8. Use the equivalent function from the pytorch_lightning.utilities.rank_zero module instead.\n",
      "  new_rank_zero_deprecation(\n",
      "D:\\anaconda\\envs\\cell2loc_env\\lib\\site-packages\\pytorch_lightning-1.7.7-py3.9.egg\\pytorch_lightning\\utilities\\warnings.py:58: LightningDeprecationWarning: The `pytorch_lightning.loggers.base.rank_zero_experiment` is deprecated in v1.7 and will be removed in v1.9. Please use `pytorch_lightning.loggers.logger.rank_zero_experiment` instead.\n",
      "  return new_rank_zero_deprecation(*args, **kwargs)\n"
     ]
    }
   ],
   "source": [
    "import sys\n",
    "import scanpy as sc\n",
    "import anndata\n",
    "import pandas as pd\n",
    "import numpy as np\n",
    "import os\n",
    "import gc\n",
    "import cell2location\n",
    "import matplotlib as mpl\n",
    "from matplotlib import rcParams\n",
    "import matplotlib.pyplot as plt\n",
    "import seaborn as sns\n",
    "import warnings\n",
    "import scipy.sparse as sparse\n",
    "from scvi.data import synthetic_iid\n",
    "from scvi.dataloaders import AnnDataLoader\n",
    "\n",
    "import diopy\n",
    "from cell2location import run_colocation\n",
    "from cell2location.models import Cell2location, RegressionModel\n",
    "import cell2location\n",
    "import matplotlib as mpl\n",
    "from matplotlib import rcParams\n",
    "import matplotlib.pyplot as plt\n",
    "import seaborn as sns\n",
    "import warnings\n",
    "warnings.filterwarnings('ignore')\n",
    "import scvi\n",
    "\n",
    "from cell2location import run_colocation\n",
    "from cell2location.models import Cell2location, RegressionModel\n",
    "\n",
    "\n",
    "import torch\n",
    "import scvi\n",
    "\n",
    "\n",
    "device = torch.device(\"cuda\" if torch.cuda.is_available() else \"cpu\")"
   ]
  },
  {
   "cell_type": "code",
   "execution_count": 2,
   "id": "5b9093ab",
   "metadata": {},
   "outputs": [
    {
     "data": {
      "text/plain": [
       "['C2D2_CB_cellbin.h5',\n",
       " 'C2D2_HIP_cellbin.h5',\n",
       " 'C2D2_OB_cellbin.h5',\n",
       " 'HIP_slide_seq.h5',\n",
       " 'HIP_test1.h5',\n",
       " 'st_HIP_starmap.h5',\n",
       " 'st_human_CTX.h5',\n",
       " 'st_mouse_CTX.h5']"
      ]
     },
     "execution_count": 2,
     "metadata": {},
     "output_type": "execute_result"
    }
   ],
   "source": [
    "#读取文件\n",
    "import os\n",
    "import pandas as pd\n",
    "\n",
    "\n",
    "\n",
    "# 设置工作目录\n",
    "working_dir = 'E:/doctor/自研/mapping/data/20230814final/h5/st/'\n",
    "os.chdir(working_dir)\n",
    "\n",
    "# 获取所有文件列表\n",
    "datalist = [f for f in os.listdir() if os.path.isfile(f)]\n",
    "datalist"
   ]
  },
  {
   "cell_type": "code",
   "execution_count": 6,
   "id": "23b4b807",
   "metadata": {},
   "outputs": [
    {
     "data": {
      "text/plain": [
       "AnnData object with n_obs × n_vars = 3573 × 28526\n",
       "    obs: 'orig.ident', 'nCount_RNA', 'nFeature_RNA', 'percent.mt', 'percent.rb', 'percent.HB', 'nCount_SCT', 'nFeature_SCT', 'integrated_snn_res.0.3', 'seurat_clusters', 'annotation', 'type', 'number', 'SCT_snn_res.0.1', 'umapx', 'umapy', 'cut', 'SCT_snn_res.0.2'\n",
       "    obsm: 'X_pca', 'X_tsne', 'X_umap'"
      ]
     },
     "execution_count": 6,
     "metadata": {},
     "output_type": "execute_result"
    }
   ],
   "source": [
    "sc_obj = diopy.input.read_h5(\"E:/doctor/自研/mapping/data/20230814final/h5/sc/sc_CB.h5\")\n",
    "sc_obj"
   ]
  },
  {
   "cell_type": "code",
   "execution_count": 13,
   "id": "70877c24",
   "metadata": {},
   "outputs": [
    {
     "name": "stdout",
     "output_type": "stream",
     "text": [
      "C2D2_CB_cellbin.h5\n",
      "C2D2_HIP_cellbin.h5\n"
     ]
    }
   ],
   "source": [
    "for i in range(0, 2):\n",
    "    print(datalist[i])"
   ]
  },
  {
   "cell_type": "code",
   "execution_count": 15,
   "id": "c5e4a5cc",
   "metadata": {},
   "outputs": [
    {
     "data": {
      "text/plain": [
       "'E:/doctor/自研/mapping/data/20230814final/st/C2D2_CB_cellbin.rds'"
      ]
     },
     "execution_count": 15,
     "metadata": {},
     "output_type": "execute_result"
    }
   ],
   "source": [
    "st_path"
   ]
  },
  {
   "cell_type": "code",
   "execution_count": null,
   "id": "37724bc8",
   "metadata": {},
   "outputs": [
    {
     "name": "stdout",
     "output_type": "stream",
     "text": [
      "HIP_slide_seq.h5\n"
     ]
    },
    {
     "name": "stderr",
     "output_type": "stream",
     "text": [
      "GPU available: True (cuda), used: True\n",
      "TPU available: False, using: 0 TPU cores\n",
      "IPU available: False, using: 0 IPUs\n",
      "HPU available: False, using: 0 HPUs\n",
      "LOCAL_RANK: 0 - CUDA_VISIBLE_DEVICES: [0]\n"
     ]
    },
    {
     "name": "stdout",
     "output_type": "stream",
     "text": [
      "Epoch 5/250:   2%|▋                                       | 4/250 [00:31<31:44,  7.74s/it, v_num=1, elbo_train=3.77e+8]"
     ]
    }
   ],
   "source": [
    "import time\n",
    "\n",
    "# 设置工作目录\n",
    "working_dir = 'E:/doctor/自研/mapping/data/20230814final/h5/st/'\n",
    "os.chdir(working_dir)\n",
    "\n",
    "# 获取所有文件列表\n",
    "datalist = [f for f in os.listdir() if os.path.isfile(f)]\n",
    "\n",
    "# for i in range(0, len(datalist)):\n",
    "for i in range(3, 4):\n",
    "#     if(datalist[i]!=\"C2D2_HIP_cellbin.h5\"):\n",
    "#         continue\n",
    "    print(datalist[i])\n",
    "\n",
    "    # 读取st数据\n",
    "    st_path = os.path.join(working_dir, datalist[i])\n",
    "    st_obj = diopy.input.read_h5(st_path)\n",
    "    \n",
    "    # 根据st数据选取sc数据\n",
    "    if datalist[i] in [\"st_HIP_starmap.h5\", \"C2D2_HIP_cellbin.h5\", \"HIP_slide_seq.h5\", \"HIP_test1.h5\"]:\n",
    "        sc_obj = diopy.input.read_h5(\"E:/doctor/自研/mapping/data/20230814final/h5/sc/sc_HIP.h5\")\n",
    "        anno = 'annotation'\n",
    "\n",
    "    elif datalist[i] == \"C2D2_CB_cellbin.h5\":\n",
    "        sc_obj = diopy.input.read_h5(\"E:/doctor/自研/mapping/data/20230814final/h5/sc/sc_CB.h5\")\n",
    "        anno = 'annotation'\n",
    "\n",
    "    elif datalist[i] == \"C2D2_OB_cellbin.h5\":\n",
    "        sc_obj = diopy.input.read_h5(\"E:/doctor/自研/mapping/data/20230814final/h5/sc/sc_OB.h5\")\n",
    "        anno = 'type'\n",
    "\n",
    "    elif datalist[i] == \"st_human_CTX.h5\":\n",
    "        sc_obj = diopy.input.read_h5(\"E:/doctor/自研/mapping/data/20230814final/h5/sc/sc_human_CTX.h5\")\n",
    "        anno = 'Subclass'\n",
    "\n",
    "    elif datalist[i] == \"st_mouse_CTX.h5\":\n",
    "        sc_obj = diopy.input.read_h5(\"E:/doctor/自研/mapping/data/20230814final/h5/sc/sc_mouse_CTX.h5\")\n",
    "        anno = 'Type'\n",
    "    #开始时间\n",
    "    start_time = time.time()\n",
    "    \n",
    "    adata_ref=sc_obj\n",
    "    adata_ref.X=sparse.csr_matrix(np.round(adata_ref.X.todense()))\n",
    "    RegressionModel.setup_anndata(adata_ref, labels_key=anno)\n",
    "    mod = RegressionModel(adata_ref)\n",
    "    mod.train(max_epochs=250, batch_size=2000, train_size=1, lr=0.002\n",
    "              #, use_gpu=True\n",
    "             )\n",
    "    adata_ref = mod.export_posterior(\n",
    "    adata_ref, sample_kwargs={'num_samples': 1000, 'batch_size': 1500\n",
    "    #, 'use_gpu': True\n",
    "    }\n",
    "    )\n",
    "    if 'means_per_cluster_mu_fg' in adata_ref.varm.keys():\n",
    "        inf_aver = adata_ref.varm['means_per_cluster_mu_fg'][[f'means_per_cluster_mu_fg_{i}'\n",
    "                                        for i in adata_ref.uns['mod']['factor_names']]].copy()\n",
    "    else:\n",
    "        inf_aver = adata_ref.var[[f'means_per_cluster_mu_fg_{i}'\n",
    "                                        for i in adata_ref.uns['mod']['factor_names']]].copy()\n",
    "    inf_aver.columns = adata_ref.uns['mod']['factor_names']\n",
    "    adata_vis=st_obj\n",
    "    adata_vis.X=sparse.csr_matrix(np.round(adata_vis.X.todense()))\n",
    "    intersect = np.intersect1d(adata_vis.var_names, inf_aver.index)\n",
    "    adata_vis = adata_vis[:, intersect].copy()\n",
    "    inf_aver = inf_aver.loc[intersect, :].copy()\n",
    "    Cell2location.setup_anndata(adata=adata_vis)\n",
    "    mod = cell2location.models.Cell2location(\n",
    "        adata_vis, cell_state_df=inf_aver,\n",
    "    # the expected average cell abundance: tissue-dependent\n",
    "    # hyper-prior which can be estimated from paired histology:\n",
    "        N_cells_per_location=1.3,\n",
    "    # hyperparameter controlling normalisation of\n",
    "    # within-experiment variation in RNA detection (using default here):\n",
    "        detection_alpha=200\n",
    "    )\n",
    "    mod.train(max_epochs=250,\n",
    "          # train using full data (batch_size=None)\n",
    "          batch_size=500,\n",
    "          # use all data points in training because\n",
    "          # we need to estimate cell abundance at all locations\n",
    "          train_size=1\n",
    "          #,use_gpu=True\n",
    "          )\n",
    "    adata_vis = mod.export_posterior(\n",
    "    adata_vis, sample_kwargs={'num_samples': 250, 'batch_size': mod.adata.n_obs#, 'use_gpu': True\n",
    "        }\n",
    "    )\n",
    "\n",
    "    print(\"saving \\n\")\n",
    "    #重写一个名称\n",
    "    name=\"E:/doctor/自研/mapping/data/20230814final/result/cell2/\"+datalist[i]+\"_cell2_prediction.csv\"\n",
    "    adata_vis.obsm[\"means_cell_abundance_w_sf\"].to_csv(name)\n",
    "    \n",
    "#     end_time = time.time()\n",
    "#     time_diff = end_time-start_time\n",
    "#     print(time_diff)\n",
    "    \n",
    "#     time_name=\"E:/doctor/自研/mapping/data/20230814final/result/cell2location/\"+datalist[i]+\"_cell2_prediction_time.csv\"\n",
    "#     pd.Series([time_diff], name='time_diff').to_csv(time_name, header=True)"
   ]
  },
  {
   "cell_type": "code",
   "execution_count": 5,
   "id": "85e86373",
   "metadata": {},
   "outputs": [],
   "source": [
    "name=\"E:/doctor/自研/mapping/data/20230814final/result/cell2/\"+datalist[i]+\"_cell2_prediction.csv\"\n",
    "adata_vis.obsm[\"means_cell_abundance_w_sf\"].to_csv(name)"
   ]
  },
  {
   "cell_type": "code",
   "execution_count": 4,
   "id": "20a60b3e",
   "metadata": {},
   "outputs": [
    {
     "data": {
      "text/plain": [
       "'E:/doctor/自研/mapping/data/20230814final/result/cell2location/C2D2_HIP_cellbin.h5_cell2_prediction.csv'"
      ]
     },
     "execution_count": 4,
     "metadata": {},
     "output_type": "execute_result"
    }
   ],
   "source": [
    "name"
   ]
  },
  {
   "cell_type": "code",
   "execution_count": null,
   "id": "09ca6aec",
   "metadata": {},
   "outputs": [],
   "source": []
  }
 ],
 "metadata": {
  "kernelspec": {
   "display_name": "DSCT",
   "language": "python",
   "name": "dsct"
  },
  "language_info": {
   "codemirror_mode": {
    "name": "ipython",
    "version": 3
   },
   "file_extension": ".py",
   "mimetype": "text/x-python",
   "name": "python",
   "nbconvert_exporter": "python",
   "pygments_lexer": "ipython3",
   "version": "3.11.7"
  }
 },
 "nbformat": 4,
 "nbformat_minor": 5
}
