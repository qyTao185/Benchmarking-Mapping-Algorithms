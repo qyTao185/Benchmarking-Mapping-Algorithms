{
 "cells": [
  {
   "cell_type": "code",
   "execution_count": 1,
   "id": "6fb12405",
   "metadata": {},
   "outputs": [
    {
     "ename": "ModuleNotFoundError",
     "evalue": "No module named 'scvi'",
     "output_type": "error",
     "traceback": [
      "\u001b[0;31m---------------------------------------------------------------------------\u001b[0m",
      "\u001b[0;31mModuleNotFoundError\u001b[0m                       Traceback (most recent call last)",
      "Cell \u001b[0;32mIn[1], line 9\u001b[0m\n\u001b[1;32m      7\u001b[0m \u001b[38;5;28;01mfrom\u001b[39;00m \u001b[38;5;21;01mmatplotlib\u001b[39;00m\u001b[38;5;21;01m.\u001b[39;00m\u001b[38;5;21;01mlines\u001b[39;00m \u001b[38;5;28;01mimport\u001b[39;00m Line2D\n\u001b[1;32m      8\u001b[0m \u001b[38;5;28;01mimport\u001b[39;00m \u001b[38;5;21;01mumap\u001b[39;00m\n\u001b[0;32m----> 9\u001b[0m \u001b[38;5;28;01mfrom\u001b[39;00m \u001b[38;5;21;01mscvi\u001b[39;00m\u001b[38;5;21;01m.\u001b[39;00m\u001b[38;5;21;01mmodel\u001b[39;00m \u001b[38;5;28;01mimport\u001b[39;00m CondSCVI,DestVI\n\u001b[1;32m     10\u001b[0m \u001b[38;5;28;01mimport\u001b[39;00m \u001b[38;5;21;01mscvi\u001b[39;00m\n\u001b[1;32m     11\u001b[0m \u001b[38;5;28;01mimport\u001b[39;00m \u001b[38;5;21;01mdiopy\u001b[39;00m\n",
      "\u001b[0;31mModuleNotFoundError\u001b[0m: No module named 'scvi'"
     ]
    }
   ],
   "source": [
    "import sys \n",
    "import scanpy as sc\n",
    "import numpy as np\n",
    "import matplotlib.pyplot as plt\n",
    "import pandas as pd\n",
    "import seaborn as sns\n",
    "from matplotlib.lines import Line2D\n",
    "import umap\n",
    "from scvi.model import CondSCVI,DestVI\n",
    "import scvi\n",
    "import diopy"
   ]
  },
  {
   "cell_type": "code",
   "execution_count": null,
   "id": "b19574f8",
   "metadata": {
    "scrolled": true
   },
   "outputs": [],
   "source": [
    "import time\n",
    "import os\n",
    "\n",
    "# 设置工作目录\n",
    "working_dir = 'E:/doctor/自研/mapping/data/20230814final/h5/st/'\n",
    "os.chdir(working_dir)\n",
    "\n",
    "# 获取所有文件列表\n",
    "datalist = [f for f in os.listdir() if os.path.isfile(f)]\n",
    "\n",
    "# 循环遍历文件\n",
    "# for i in range(0, len(datalist)):\n",
    "for i in range(6, 7):\n",
    "#     if(datalist[i]!=\"C2D2_HIP_cellbin.h5\"):\n",
    "#         continue\n",
    "    print(datalist[i])\n",
    "\n",
    "    # 读取st数据\n",
    "    st_path = os.path.join(working_dir, datalist[i])\n",
    "    st_obj = diopy.input.read_h5(st_path)\n",
    "    \n",
    "    # 根据st数据选取sc数据\n",
    "    if datalist[i] in [\"st_HIP_starmap.h5\", \"C2D2_HIP_cellbin.h5\", \"HIP_slide_seq.h5\", \"HIP_test1.h5\"]:\n",
    "        sc_obj = diopy.input.read_h5(\"E:/doctor/自研/mapping/data/20230814final/h5/sc/sc_HIP.h5\")\n",
    "        anno = 'annotation'\n",
    "\n",
    "    elif datalist[i] == \"C2D2_CB_cellbin.h5\":\n",
    "        sc_obj = diopy.input.read_h5(\"E:/doctor/自研/mapping/data/20230814final/h5/sc/sc_CB.h5\")\n",
    "        anno = 'annotation'\n",
    "\n",
    "    elif datalist[i] == \"C2D2_OB_cellbin.h5\":\n",
    "        sc_obj = diopy.input.read_h5(\"E:/doctor/自研/mapping/data/20230814final/h5/sc/sc_OB.h5\")\n",
    "        anno = 'type'\n",
    "\n",
    "    elif datalist[i] == \"st_human_CTX.h5\":\n",
    "        sc_obj = diopy.input.read_h5(\"E:/doctor/自研/mapping/data/20230814final/h5/sc/sc_human_CTX.h5\")\n",
    "        anno = 'Subclass'\n",
    "        \n",
    "\n",
    "    elif datalist[i] == \"st_mouse_CTX.h5\":\n",
    "        sc_obj = diopy.input.read_h5(\"E:/doctor/自研/mapping/data/20230814final/h5/sc/sc_mouse_CTX.h5\")\n",
    "        anno = 'Type'\n",
    "        \n",
    "    #开始时间\n",
    "    start_time = time.time()\n",
    "    sc_adata= sc_obj\n",
    "    sc_adata.layers[\"counts\"]=sc_adata.X.copy()\n",
    "    st_adata = st_obj\n",
    "    st_adata.layers[\"counts\"]=st_adata.X.copy()\n",
    "    \n",
    "    st_adata.raw=st_adata\n",
    "    intersect = np.intersect1d(sc_adata.var_names,st_adata.var_names)\n",
    "    st_adata=st_adata[:,intersect].copy()\n",
    "    sc_adata=sc_adata[:,intersect].copy()\n",
    "\n",
    "    CondSCVI.setup_anndata(sc_adata,layer=\"counts\",labels_key=anno)\n",
    "    sc_model=CondSCVI(sc_adata,weight_obs=True)\n",
    "    sc_model.train(max_epochs=250)\n",
    "\n",
    "    st_adata.layers[\"counts\"]=st_adata.X.copy()\n",
    "    DestVI.setup_anndata(st_adata,layer=\"counts\")\n",
    "\n",
    "    st_model=DestVI.from_rna_model(st_adata,sc_model)\n",
    "    st_model.train(max_epochs=350)\n",
    "    \n",
    "    \n",
    "    print(\"saving \\n\")\n",
    "    #重写一个名称\n",
    "    name=\"E:/doctor/自研/mapping/data/20230814final/result/destvi/\"+datalist[i]+\"_destvi_prediction.csv\"\n",
    "    \n",
    "    st_adata.obsm[\"proportions\"]=st_model.get_proportions()\n",
    "    st_adata.obsm[\"proportions\"].to_csv(name)\n",
    "    \n",
    "    end_time = time.time()\n",
    "    time_diff = end_time-start_time\n",
    "    print(time_diff)\n",
    "    \n",
    "    time_name=\"E:/doctor/自研/mapping/data/20230814final/result/destvi/\"+datalist[i]+\"_destvi_prediction_time.csv\"\n",
    "    pd.Series([time_diff], name='time_diff').to_csv(time_name, header=True)\n",
    "\n",
    "    "
   ]
  },
  {
   "cell_type": "code",
   "execution_count": 44,
   "id": "dabbbd4f",
   "metadata": {},
   "outputs": [
    {
     "data": {
      "text/plain": [
       "AnnData object with n_obs × n_vars = 7288 × 0\n",
       "    obs: 'orig.ident', 'nCount_RNA', 'nFeature_RNA', 'imagerow', 'imagecol', 'predict', 'predict_modified', '_indices'\n",
       "    uns: '_scvi_uuid', '_scvi_manager_uuid'\n",
       "    layers: 'counts'"
      ]
     },
     "execution_count": 44,
     "metadata": {},
     "output_type": "execute_result"
    }
   ],
   "source": [
    "st_adata"
   ]
  },
  {
   "cell_type": "code",
   "execution_count": 37,
   "id": "25ed3808",
   "metadata": {},
   "outputs": [
    {
     "name": "stdout",
     "output_type": "stream",
     "text": [
      "st_mouse_CTX.h5\n"
     ]
    }
   ],
   "source": [
    "i=7\n",
    "print(datalist[i])\n",
    "\n",
    "# 读取st数据\n",
    "st_path = os.path.join(working_dir, datalist[i])\n",
    "st_obj = diopy.input.read_h5(st_path)"
   ]
  },
  {
   "cell_type": "code",
   "execution_count": 92,
   "id": "a84e48ca",
   "metadata": {},
   "outputs": [],
   "source": [
    "# 根据st数据选取sc数据\n",
    "if datalist[i] in [\"st_HIP_starmap.h5\", \"C2D2_HIP_cellbin.h5\", \"HIP_slide_seq.h5\", \"HIP_test1.h5\"]:\n",
    "    sc_obj = diopy.input.read_h5(\"E:/doctor/自研/mapping/data/20230814final/h5/sc/sc_HIP.h5\")\n",
    "    anno = 'annotation'\n",
    "\n",
    "elif datalist[i] == \"C2D2_CB_cellbin.h5\":\n",
    "    sc_obj = diopy.input.read_h5(\"E:/doctor/自研/mapping/data/20230814final/h5/sc/sc_CB.h5\")\n",
    "    anno = 'annotation'\n",
    "\n",
    "elif datalist[i] == \"C2D2_OB_cellbin.h5\":\n",
    "    sc_obj = diopy.input.read_h5(\"E:/doctor/自研/mapping/data/20230814final/h5/sc/sc_OB.h5\")\n",
    "    anno = 'type'\n",
    "\n",
    "elif datalist[i] == \"st_CTX_human.h5\":\n",
    "    sc_obj = diopy.input.read_h5(\"E:/doctor/自研/mapping/data/20230814final/h5/sc/sc_human_CTX.h5\")\n",
    "    anno = 'Subclass'\n",
    "    sc_obj.var_names = sc_adata.var_names.str.upper()\n",
    "\n",
    "\n",
    "elif datalist[i] == \"st_CTX_mouse.h5\":\n",
    "    sc_obj = diopy.input.read_h5(\"E:/doctor/自研/mapping/data/20230814final/h5/sc/sc_mouse_CTX.h5\")\n",
    "    anno = 'Type'\n",
    "    \n",
    "#开始时间\n",
    "start_time = time.time()\n",
    "sc_adata= sc_obj\n",
    "sc_adata.layers[\"counts\"]=sc_adata.X.copy()\n",
    "st_adata = st_obj\n",
    "st_adata.layers[\"counts\"]=st_adata.X.copy()\n",
    "st_adata.raw=st_adata\n",
    "# intersect = np.intersect1d(sc_adata.var_names,st_adata.var_names)\n",
    "# st_adata=st_adata[:,intersect].copy()\n",
    "# sc_adata=sc_adata[:,intersect].copy()"
   ]
  },
  {
   "cell_type": "code",
   "execution_count": 93,
   "id": "5663a331",
   "metadata": {},
   "outputs": [
    {
     "data": {
      "text/plain": [
       "AnnData object with n_obs × n_vars = 17336 × 36517\n",
       "    obs: 'Subclass', 'nFeature', 'nCount'\n",
       "    layers: 'counts'"
      ]
     },
     "execution_count": 93,
     "metadata": {},
     "output_type": "execute_result"
    }
   ],
   "source": [
    "sc_adata"
   ]
  },
  {
   "cell_type": "code",
   "execution_count": 95,
   "id": "feabe5db",
   "metadata": {},
   "outputs": [
    {
     "data": {
      "text/plain": [
       "AnnData object with n_obs × n_vars = 986 × 3999\n",
       "    obs: 'orig.ident', 'nCount_RNA', 'nFeature_RNA', 'imagerow', 'imagecol', 'predict', 'predict_modified'\n",
       "    layers: 'counts'"
      ]
     },
     "execution_count": 95,
     "metadata": {},
     "output_type": "execute_result"
    }
   ],
   "source": [
    "st_adata"
   ]
  },
  {
   "cell_type": "code",
   "execution_count": 66,
   "id": "e3ef8f9f",
   "metadata": {},
   "outputs": [
    {
     "data": {
      "text/plain": [
       "Index(['Acta2', 'Adam2', 'Adamts2', 'Adamts4', 'Adra1b', 'Alk', 'Ankfn1',\n",
       "       'Ano4', 'Aqp4', 'Asic4',\n",
       "       ...\n",
       "       'Unc13c', 'Unc5b', 'Unc5d', 'Ust', 'Vipr2', 'Vtn', 'Vwc2', 'Wipf3',\n",
       "       'Wnt7b', 'Zfp804b'],\n",
       "      dtype='object', name='index', length=234)"
      ]
     },
     "execution_count": 66,
     "metadata": {},
     "output_type": "execute_result"
    }
   ],
   "source": [
    "st_adata.var_names"
   ]
  },
  {
   "cell_type": "code",
   "execution_count": 77,
   "id": "fd3df7bc",
   "metadata": {},
   "outputs": [
    {
     "data": {
      "text/plain": [
       "AnnData object with n_obs × n_vars = 10485 × 30869\n",
       "    obs: 'batch', 'n_genes', 'percent_mito', 'n_counts', 'leiden', 'Doublet', 'Doublet Score', 'cluster', 'Class_broad', 'sample', 'Age', 'subclass', 'layer', 'Type', 'Subclass', 'nCount_SCT', 'nFeature_SCT', 'SCT_snn_res.0.6', 'SCT_snn_res.0.7', 'SCT_snn_res.0.8', 'SCT_snn_res.0.9', 'SCT_snn_res.1', 'seurat_clusters', 'nCount_RNA', 'nFeature_RNA'\n",
       "    obsm: 'X_pca', 'X_umap'"
      ]
     },
     "execution_count": 77,
     "metadata": {},
     "output_type": "execute_result"
    }
   ],
   "source": [
    "sc_obj = diopy.input.read_h5(\"E:/doctor/自研/mapping/data/20230814final/h5/sc/sc_mouse_CTX.h5\")\n",
    "sc_obj"
   ]
  },
  {
   "cell_type": "code",
   "execution_count": 76,
   "id": "b33ab76e",
   "metadata": {},
   "outputs": [
    {
     "data": {
      "text/plain": [
       "'st_mouse_CTX.h5'"
      ]
     },
     "execution_count": 76,
     "metadata": {},
     "output_type": "execute_result"
    }
   ],
   "source": [
    "datalist[i]"
   ]
  },
  {
   "cell_type": "code",
   "execution_count": 52,
   "id": "22262ef9",
   "metadata": {},
   "outputs": [],
   "source": [
    "intersect = np.intersect1d(sc_adata.var_names,st_adata.var_names)\n",
    "st_adata=st_adata[:,intersect].copy()\n",
    "sc_adata=sc_adata[:,intersect].copy()"
   ]
  },
  {
   "cell_type": "code",
   "execution_count": 53,
   "id": "8db44adc",
   "metadata": {},
   "outputs": [
    {
     "data": {
      "text/plain": [
       "array([], dtype=object)"
      ]
     },
     "execution_count": 53,
     "metadata": {},
     "output_type": "execute_result"
    }
   ],
   "source": [
    "intersect"
   ]
  },
  {
   "cell_type": "code",
   "execution_count": 31,
   "id": "39aed5fd",
   "metadata": {},
   "outputs": [
    {
     "name": "stderr",
     "output_type": "stream",
     "text": [
      "D:\\anaconda\\envs\\cell2loc_env\\lib\\site-packages\\scvi_tools-0.19.0-py3.9.egg\\scvi\\data\\fields\\_layer_field.py:91: UserWarning: adata.layers[counts] does not contain unnormalized count data. Are you sure this is what you want?\n",
      "  warnings.warn(\n",
      "INFO:pytorch_lightning.utilities.rank_zero:GPU available: True (cuda), used: True\n",
      "INFO:pytorch_lightning.utilities.rank_zero:TPU available: False, using: 0 TPU cores\n",
      "INFO:pytorch_lightning.utilities.rank_zero:IPU available: False, using: 0 IPUs\n",
      "INFO:pytorch_lightning.utilities.rank_zero:HPU available: False, using: 0 HPUs\n",
      "INFO:pytorch_lightning.accelerators.cuda:LOCAL_RANK: 0 - CUDA_VISIBLE_DEVICES: [0]\n"
     ]
    },
    {
     "name": "stdout",
     "output_type": "stream",
     "text": [
      "Epoch 2/250:   0%|▏                                            | 1/250 [00:03<15:27,  3.72s/it, loss=6.65e+04, v_num=1]"
     ]
    },
    {
     "name": "stderr",
     "output_type": "stream",
     "text": [
      "D:\\anaconda\\envs\\cell2loc_env\\lib\\site-packages\\pytorch_lightning-1.7.7-py3.9.egg\\pytorch_lightning\\trainer\\trainer.py:653: UserWarning: Detected KeyboardInterrupt, attempting graceful shutdown...\n",
      "  rank_zero_warn(\"Detected KeyboardInterrupt, attempting graceful shutdown...\")\n",
      "INFO:pytorch_lightning.utilities.rank_zero:GPU available: True (cuda), used: True\n",
      "INFO:pytorch_lightning.utilities.rank_zero:TPU available: False, using: 0 TPU cores\n",
      "INFO:pytorch_lightning.utilities.rank_zero:IPU available: False, using: 0 IPUs\n",
      "INFO:pytorch_lightning.utilities.rank_zero:HPU available: False, using: 0 HPUs\n",
      "INFO:pytorch_lightning.accelerators.cuda:LOCAL_RANK: 0 - CUDA_VISIBLE_DEVICES: [0]\n",
      "D:\\anaconda\\envs\\cell2loc_env\\lib\\site-packages\\pytorch_lightning-1.7.7-py3.9.egg\\pytorch_lightning\\trainer\\trainer.py:1892: PossibleUserWarning: The number of training batches (8) is smaller than the logging interval Trainer(log_every_n_steps=10). Set a lower value for log_every_n_steps if you want to see logs for the training epoch.\n",
      "  rank_zero_warn(\n"
     ]
    },
    {
     "name": "stdout",
     "output_type": "stream",
     "text": [
      "Epoch 350/350: 100%|██████████████████████████████████████████| 350/350 [00:32<00:00, 10.87it/s, loss=1.6e+06, v_num=1]"
     ]
    },
    {
     "name": "stderr",
     "output_type": "stream",
     "text": [
      "INFO:pytorch_lightning.utilities.rank_zero:`Trainer.fit` stopped: `max_epochs=350` reached.\n"
     ]
    },
    {
     "name": "stdout",
     "output_type": "stream",
     "text": [
      "Epoch 350/350: 100%|██████████████████████████████████████████| 350/350 [00:32<00:00, 10.65it/s, loss=1.6e+06, v_num=1]\n"
     ]
    }
   ],
   "source": [
    "CondSCVI.setup_anndata(sc_adata,layer=\"counts\",labels_key=anno)\n",
    "sc_model=CondSCVI(sc_adata,weight_obs=True)\n",
    "sc_model.train(max_epochs=250)\n",
    "\n",
    "st_adata.layers[\"counts\"]=st_adata.X.copy()\n",
    "DestVI.setup_anndata(st_adata,layer=\"counts\")\n",
    "\n",
    "st_model=DestVI.from_rna_model(st_adata,sc_model)\n",
    "st_model.train(max_epochs=350)"
   ]
  },
  {
   "cell_type": "code",
   "execution_count": 3,
   "id": "8b53464d",
   "metadata": {},
   "outputs": [
    {
     "data": {
      "text/plain": [
       "6"
      ]
     },
     "execution_count": 3,
     "metadata": {},
     "output_type": "execute_result"
    }
   ],
   "source": [
    "i=6\n",
    "print(datalist[i])\n",
    "\n",
    "# 读取st数据\n",
    "st_path = os.path.join(working_dir, datalist[i])\n",
    "st_obj = diopy.input.read_h5(st_path)\n",
    "\n",
    "# 根据st数据选取sc数据\n",
    "if datalist[i] in [\"st_HIP_starmap.h5\", \"C2D2_HIP_cellbin.h5\", \"HIP_slide_seq.h5\", \"HIP_test1.h5\"]:\n",
    "    sc_obj = diopy.input.read_h5(\"E:/doctor/自研/mapping/data/20230814final/h5/sc/sc_HIP.h5\")\n",
    "    anno = 'annotation'\n",
    "\n",
    "elif datalist[i] == \"C2D2_CB_cellbin.h5\":\n",
    "    sc_obj = diopy.input.read_h5(\"E:/doctor/自研/mapping/data/20230814final/h5/sc/sc_CB.h5\")\n",
    "    anno = 'annotation'\n",
    "\n",
    "elif datalist[i] == \"C2D2_OB_cellbin.h5\":\n",
    "    sc_obj = diopy.input.read_h5(\"E:/doctor/自研/mapping/data/20230814final/h5/sc/sc_OB.h5\")\n",
    "    anno = 'type'\n",
    "\n",
    "elif datalist[i] == \"st_CTX_human.h5\":\n",
    "    sc_obj = diopy.input.read_h5(\"E:/doctor/自研/mapping/data/20230814final/h5/sc/sc_human_CTX.h5\")\n",
    "    anno = 'Subclass'\n",
    "\n",
    "elif datalist[i] == \"st_CTX_mouse.h5\":\n",
    "    sc_obj = diopy.input.read_h5(\"E:/doctor/自研/mapping/data/20230814final/h5/sc/sc_mouse_CTX.h5\")\n",
    "    anno = 'Type'\n",
    "#开始时间\n",
    "start_time = time.time()\n",
    "sc_adata= sc_obj\n",
    "sc_adata.layers[\"counts\"]=sc_adata.X.copy()\n",
    "st_adata = st_obj\n",
    "st_adata.layers[\"counts\"]=st_adata.X.copy()\n",
    "\n",
    "st_adata.raw=st_adata\n",
    "intersect = np.intersect1d(sc_adata.var_names,st_adata.var_names)\n",
    "st_adata=st_adata[:,intersect].copy()\n",
    "sc_adata=sc_adata[:,intersect].copy()\n",
    "\n",
    "CondSCVI.setup_anndata(sc_adata,layer=\"counts\",labels_key=anno)\n",
    "sc_model=CondSCVI(sc_adata,weight_obs=True)\n",
    "sc_model.train(max_epochs=250)\n",
    "\n",
    "st_adata.layers[\"counts\"]=st_adata.X.copy()\n",
    "DestVI.setup_anndata(st_adata,layer=\"counts\")\n",
    "\n",
    "st_model=DestVI.from_rna_model(st_adata,sc_model)\n",
    "st_model.train(max_epochs=350)\n",
    "\n",
    "\n",
    "print(\"saving \\n\")\n",
    "#重写一个名称\n",
    "name=\"E:/doctor/自研/mapping/data/20230814final/result/destvi/\"+datalist[i]+\"_destvi_prediction.csv\"\n",
    "\n",
    "st_adata.obsm[\"proportions\"]=st_model.get_proportions()\n",
    "st_adata.obsm[\"proportions\"].to_csv(name)\n",
    "\n",
    "end_time = time.time()\n",
    "time_diff = end_time-start_time\n",
    "print(time_diff)\n",
    "\n",
    "time_name=\"E:/doctor/自研/mapping/data/20230814final/result/destvi/\"+datalist[i]+\"_destvi_prediction_time.csv\"\n",
    "pd.Series([time_diff], name='time_diff').to_csv(time_name, header=True)\n",
    "\n",
    "    "
   ]
  },
  {
   "cell_type": "code",
   "execution_count": null,
   "id": "2aef746e",
   "metadata": {},
   "outputs": [],
   "source": [
    "i=6\n",
    "print(datalist[i])\n",
    "\n",
    "# 读取st数据\n",
    "st_path = os.path.join(working_dir, datalist[i])\n",
    "st_obj = diopy.input.read_h5(st_path)"
   ]
  }
 ],
 "metadata": {
  "kernelspec": {
   "display_name": "DSCT",
   "language": "python",
   "name": "dsct"
  },
  "language_info": {
   "codemirror_mode": {
    "name": "ipython",
    "version": 3
   },
   "file_extension": ".py",
   "mimetype": "text/x-python",
   "name": "python",
   "nbconvert_exporter": "python",
   "pygments_lexer": "ipython3",
   "version": "3.11.7"
  }
 },
 "nbformat": 4,
 "nbformat_minor": 5
}
