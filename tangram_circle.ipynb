{
 "cells": [
  {
   "cell_type": "code",
   "execution_count": 1,
   "id": "dcf8a723",
   "metadata": {},
   "outputs": [
    {
     "name": "stderr",
     "output_type": "stream",
     "text": [
      "D:\\anaconda\\envs\\tangram-env\\lib\\site-packages\\tqdm\\auto.py:22: TqdmWarning: IProgress not found. Please update jupyter and ipywidgets. See https://ipywidgets.readthedocs.io/en/stable/user_install.html\n",
      "  from .autonotebook import tqdm as notebook_tqdm\n"
     ]
    },
    {
     "name": "stdout",
     "output_type": "stream",
     "text": [
      "scanpy==1.9.1 anndata==0.8.0 umap==0.5.3 numpy==1.23.5 scipy==1.10.0 pandas==1.5.3 scikit-learn==1.2.1 statsmodels==0.13.5 pynndescent==0.5.8\n"
     ]
    }
   ],
   "source": [
    "import scanpy as sc\n",
    "\n",
    "import numpy as np\n",
    "import pandas as pd\n",
    "from anndata import AnnData\n",
    "import pathlib\n",
    "import matplotlib.pyplot as plt\n",
    "import matplotlib as mpl\n",
    "#import skimage\n",
    "import seaborn as sns \n",
    "import tangram as tg\n",
    "import diopy\n",
    "import time\n",
    "import os\n",
    "\n",
    "sc.logging.print_header()\n",
    "\n",
    "\n",
    "%matplotlib inline"
   ]
  },
  {
   "cell_type": "code",
   "execution_count": null,
   "id": "b08365ed",
   "metadata": {},
   "outputs": [],
   "source": [
    "123"
   ]
  },
  {
   "cell_type": "code",
   "execution_count": null,
   "id": "2b8f072a",
   "metadata": {},
   "outputs": [],
   "source": [
    "E:\\百度云下载\\h5\\st"
   ]
  },
  {
   "cell_type": "code",
   "execution_count": 2,
   "id": "89f78f99",
   "metadata": {},
   "outputs": [],
   "source": [
    "\n",
    "adata_sc=diopy.input.read_h5(file ='E:/百度云下载/h5/st/C2D2_CB_cellbin.h5')#这\n"
   ]
  },
  {
   "cell_type": "code",
   "execution_count": 3,
   "id": "d2f88122",
   "metadata": {},
   "outputs": [
    {
     "data": {
      "text/plain": [
       "AnnData object with n_obs × n_vars = 9197 × 25057\n",
       "    obs: 'orig.ident', 'nCount_RNA', 'nFeature_RNA', 'percent.mt', 'coor_x', 'coor_y', 'nCount_SCT', 'nFeature_SCT', 'SCT_snn_res.0.5', 'seurat_clusters', 'celltype'\n",
       "    obsm: 'X_pca', 'X_umap'\n",
       "    layers: 'counts'"
      ]
     },
     "execution_count": 3,
     "metadata": {},
     "output_type": "execute_result"
    }
   ],
   "source": [
    "adata_sc"
   ]
  },
  {
   "cell_type": "code",
   "execution_count": 22,
   "id": "066841bb",
   "metadata": {},
   "outputs": [
    {
     "data": {
      "text/plain": [
       "123"
      ]
     },
     "execution_count": 22,
     "metadata": {},
     "output_type": "execute_result"
    }
   ],
   "source": [
    "123"
   ]
  },
  {
   "cell_type": "code",
   "execution_count": 2,
   "id": "4310e9d2",
   "metadata": {},
   "outputs": [
    {
     "name": "stdout",
     "output_type": "stream",
     "text": [
      "C2D2_OB_cellbin.h5\n",
      "WARNING: Default of the method has been changed to 't-test' from 't-test_overestim_var'\n"
     ]
    },
    {
     "name": "stderr",
     "output_type": "stream",
     "text": [
      "INFO:root:1085 training genes are saved in `uns``training_genes` of both single cell and spatial Anndatas.\n",
      "INFO:root:22503 overlapped genes are saved in `uns``overlap_genes` of both single cell and spatial Anndatas.\n",
      "INFO:root:uniform based density prior is calculated and saved in `obs``uniform_density` of the spatial Anndata.\n",
      "INFO:root:rna count based density prior is calculated and saved in `obs``rna_count_based_density` of the spatial Anndata.\n",
      "INFO:root:Allocate tensors for mapping.\n",
      "INFO:root:Begin training with 1085 genes and rna_count_based density_prior in cells mode...\n",
      "INFO:root:Printing scores every 100 epochs.\n"
     ]
    },
    {
     "name": "stdout",
     "output_type": "stream",
     "text": [
      "Score: 0.187, KL reg: 0.000\n"
     ]
    },
    {
     "ename": "KeyboardInterrupt",
     "evalue": "",
     "output_type": "error",
     "traceback": [
      "\u001b[1;31m---------------------------------------------------------------------------\u001b[0m",
      "\u001b[1;31mKeyboardInterrupt\u001b[0m                         Traceback (most recent call last)",
      "Input \u001b[1;32mIn [2]\u001b[0m, in \u001b[0;36m<cell line: 9>\u001b[1;34m()\u001b[0m\n\u001b[0;32m     47\u001b[0m \u001b[38;5;66;03m#去检查overlap的基因是不是都在\u001b[39;00m\n\u001b[0;32m     48\u001b[0m tg\u001b[38;5;241m.\u001b[39mpp_adatas(adata_sc,adata_st,genes\u001b[38;5;241m=\u001b[39mmarkers)\n\u001b[1;32m---> 49\u001b[0m ad_map \u001b[38;5;241m=\u001b[39m \u001b[43mtg\u001b[49m\u001b[38;5;241;43m.\u001b[39;49m\u001b[43mmap_cells_to_space\u001b[49m\u001b[43m(\u001b[49m\u001b[43madata_sc\u001b[49m\u001b[43m,\u001b[49m\u001b[43madata_st\u001b[49m\u001b[43m,\u001b[49m\n\u001b[0;32m     50\u001b[0m \u001b[43m                          \u001b[49m\u001b[43mmode\u001b[49m\u001b[38;5;241;43m=\u001b[39;49m\u001b[38;5;124;43m\"\u001b[39;49m\u001b[38;5;124;43mcells\u001b[39;49m\u001b[38;5;124;43m\"\u001b[39;49m\u001b[43m,\u001b[49m\n\u001b[0;32m     51\u001b[0m \u001b[43m                          \u001b[49m\u001b[43mdensity_prior\u001b[49m\u001b[38;5;241;43m=\u001b[39;49m\u001b[38;5;124;43m'\u001b[39;49m\u001b[38;5;124;43mrna_count_based\u001b[39;49m\u001b[38;5;124;43m'\u001b[39;49m\u001b[43m,\u001b[49m\n\u001b[0;32m     52\u001b[0m \u001b[43m                          \u001b[49m\u001b[43mnum_epochs\u001b[49m\u001b[38;5;241;43m=\u001b[39;49m\u001b[38;5;241;43m100\u001b[39;49m\u001b[43m,\u001b[49m\n\u001b[0;32m     53\u001b[0m \u001b[43m                          \u001b[49m\u001b[43mdevice\u001b[49m\u001b[38;5;241;43m=\u001b[39;49m\u001b[38;5;124;43m\"\u001b[39;49m\u001b[38;5;124;43mcpu\u001b[39;49m\u001b[38;5;124;43m\"\u001b[39;49m\u001b[43m)\u001b[49m\n\u001b[0;32m     54\u001b[0m tg\u001b[38;5;241m.\u001b[39mproject_cell_annotations(ad_map,adata_st,annotation\u001b[38;5;241m=\u001b[39manno)\n\u001b[0;32m     55\u001b[0m annotation_list\u001b[38;5;241m=\u001b[39m\u001b[38;5;28mlist\u001b[39m(pd\u001b[38;5;241m.\u001b[39munique(adata_sc\u001b[38;5;241m.\u001b[39mobs[anno]))\n",
      "File \u001b[1;32mD:\\anaconda\\envs\\tangram-env\\lib\\site-packages\\tangram\\mapping_utils.py:315\u001b[0m, in \u001b[0;36mmap_cells_to_space\u001b[1;34m(adata_sc, adata_sp, cv_train_genes, cluster_label, mode, device, learning_rate, num_epochs, scale, lambda_d, lambda_g1, lambda_g2, lambda_r, lambda_count, lambda_f_reg, target_count, random_state, verbose, density_prior)\u001b[0m\n\u001b[0;32m    309\u001b[0m     mapper \u001b[38;5;241m=\u001b[39m mo\u001b[38;5;241m.\u001b[39mMapper(\n\u001b[0;32m    310\u001b[0m         S\u001b[38;5;241m=\u001b[39mS, G\u001b[38;5;241m=\u001b[39mG, d\u001b[38;5;241m=\u001b[39md, device\u001b[38;5;241m=\u001b[39mdevice, random_state\u001b[38;5;241m=\u001b[39mrandom_state, \u001b[38;5;241m*\u001b[39m\u001b[38;5;241m*\u001b[39mhyperparameters,\n\u001b[0;32m    311\u001b[0m     )\n\u001b[0;32m    313\u001b[0m     \u001b[38;5;66;03m# TODO `train` should return the loss function\u001b[39;00m\n\u001b[1;32m--> 315\u001b[0m     mapping_matrix, training_history \u001b[38;5;241m=\u001b[39m \u001b[43mmapper\u001b[49m\u001b[38;5;241;43m.\u001b[39;49m\u001b[43mtrain\u001b[49m\u001b[43m(\u001b[49m\n\u001b[0;32m    316\u001b[0m \u001b[43m        \u001b[49m\u001b[43mlearning_rate\u001b[49m\u001b[38;5;241;43m=\u001b[39;49m\u001b[43mlearning_rate\u001b[49m\u001b[43m,\u001b[49m\u001b[43m \u001b[49m\u001b[43mnum_epochs\u001b[49m\u001b[38;5;241;43m=\u001b[39;49m\u001b[43mnum_epochs\u001b[49m\u001b[43m,\u001b[49m\u001b[43m \u001b[49m\u001b[43mprint_each\u001b[49m\u001b[38;5;241;43m=\u001b[39;49m\u001b[43mprint_each\u001b[49m\u001b[43m,\u001b[49m\n\u001b[0;32m    317\u001b[0m \u001b[43m    \u001b[49m\u001b[43m)\u001b[49m\n\u001b[0;32m    319\u001b[0m \u001b[38;5;66;03m# constrained mode\u001b[39;00m\n\u001b[0;32m    320\u001b[0m \u001b[38;5;28;01melif\u001b[39;00m mode \u001b[38;5;241m==\u001b[39m \u001b[38;5;124m\"\u001b[39m\u001b[38;5;124mconstrained\u001b[39m\u001b[38;5;124m\"\u001b[39m:\n",
      "File \u001b[1;32mD:\\anaconda\\envs\\tangram-env\\lib\\site-packages\\tangram\\mapping_optimizer.py:177\u001b[0m, in \u001b[0;36mMapper.train\u001b[1;34m(self, num_epochs, learning_rate, print_each)\u001b[0m\n\u001b[0;32m    175\u001b[0m \u001b[38;5;28;01mfor\u001b[39;00m t \u001b[38;5;129;01min\u001b[39;00m \u001b[38;5;28mrange\u001b[39m(num_epochs):\n\u001b[0;32m    176\u001b[0m     \u001b[38;5;28;01mif\u001b[39;00m print_each \u001b[38;5;129;01mis\u001b[39;00m \u001b[38;5;28;01mNone\u001b[39;00m \u001b[38;5;129;01mor\u001b[39;00m t \u001b[38;5;241m%\u001b[39m print_each \u001b[38;5;241m!=\u001b[39m \u001b[38;5;241m0\u001b[39m:\n\u001b[1;32m--> 177\u001b[0m         run_loss \u001b[38;5;241m=\u001b[39m \u001b[38;5;28;43mself\u001b[39;49m\u001b[38;5;241;43m.\u001b[39;49m\u001b[43m_loss_fn\u001b[49m\u001b[43m(\u001b[49m\u001b[43mverbose\u001b[49m\u001b[38;5;241;43m=\u001b[39;49m\u001b[38;5;28;43;01mFalse\u001b[39;49;00m\u001b[43m)\u001b[49m\n\u001b[0;32m    178\u001b[0m     \u001b[38;5;28;01melse\u001b[39;00m:\n\u001b[0;32m    179\u001b[0m         run_loss \u001b[38;5;241m=\u001b[39m \u001b[38;5;28mself\u001b[39m\u001b[38;5;241m.\u001b[39m_loss_fn(verbose\u001b[38;5;241m=\u001b[39m\u001b[38;5;28;01mTrue\u001b[39;00m)\n",
      "File \u001b[1;32mD:\\anaconda\\envs\\tangram-env\\lib\\site-packages\\tangram\\mapping_optimizer.py:98\u001b[0m, in \u001b[0;36mMapper._loss_fn\u001b[1;34m(self, verbose)\u001b[0m\n\u001b[0;32m     87\u001b[0m \u001b[38;5;28;01mdef\u001b[39;00m \u001b[38;5;21m_loss_fn\u001b[39m(\u001b[38;5;28mself\u001b[39m, verbose\u001b[38;5;241m=\u001b[39m\u001b[38;5;28;01mTrue\u001b[39;00m):\n\u001b[0;32m     88\u001b[0m     \u001b[38;5;124;03m\"\"\"\u001b[39;00m\n\u001b[0;32m     89\u001b[0m \u001b[38;5;124;03m    Evaluates the loss function.\u001b[39;00m\n\u001b[0;32m     90\u001b[0m \n\u001b[1;32m   (...)\u001b[0m\n\u001b[0;32m     96\u001b[0m \u001b[38;5;124;03m        Tuple of 5 Floats: Total loss, gv_loss, vg_loss, kl_reg, entropy_reg\u001b[39;00m\n\u001b[0;32m     97\u001b[0m \u001b[38;5;124;03m    \"\"\"\u001b[39;00m\n\u001b[1;32m---> 98\u001b[0m     M_probs \u001b[38;5;241m=\u001b[39m \u001b[43msoftmax\u001b[49m\u001b[43m(\u001b[49m\u001b[38;5;28;43mself\u001b[39;49m\u001b[38;5;241;43m.\u001b[39;49m\u001b[43mM\u001b[49m\u001b[43m,\u001b[49m\u001b[43m \u001b[49m\u001b[43mdim\u001b[49m\u001b[38;5;241;43m=\u001b[39;49m\u001b[38;5;241;43m1\u001b[39;49m\u001b[43m)\u001b[49m\n\u001b[0;32m    100\u001b[0m     \u001b[38;5;28;01mif\u001b[39;00m \u001b[38;5;28mself\u001b[39m\u001b[38;5;241m.\u001b[39mtarget_density_enabled \u001b[38;5;129;01mand\u001b[39;00m \u001b[38;5;28mself\u001b[39m\u001b[38;5;241m.\u001b[39msource_density_enabled:\n\u001b[0;32m    101\u001b[0m         d_pred \u001b[38;5;241m=\u001b[39m torch\u001b[38;5;241m.\u001b[39mlog(\n\u001b[0;32m    102\u001b[0m             \u001b[38;5;28mself\u001b[39m\u001b[38;5;241m.\u001b[39md_source \u001b[38;5;241m@\u001b[39m M_probs\n\u001b[0;32m    103\u001b[0m         )  \u001b[38;5;66;03m# KL wants the log in first argument\u001b[39;00m\n",
      "File \u001b[1;32mD:\\anaconda\\envs\\tangram-env\\lib\\site-packages\\torch\\nn\\functional.py:1834\u001b[0m, in \u001b[0;36msoftmax\u001b[1;34m(input, dim, _stacklevel, dtype)\u001b[0m\n\u001b[0;32m   1832\u001b[0m     dim \u001b[38;5;241m=\u001b[39m _get_softmax_dim(\u001b[38;5;124m\"\u001b[39m\u001b[38;5;124msoftmax\u001b[39m\u001b[38;5;124m\"\u001b[39m, \u001b[38;5;28minput\u001b[39m\u001b[38;5;241m.\u001b[39mdim(), _stacklevel)\n\u001b[0;32m   1833\u001b[0m \u001b[38;5;28;01mif\u001b[39;00m dtype \u001b[38;5;129;01mis\u001b[39;00m \u001b[38;5;28;01mNone\u001b[39;00m:\n\u001b[1;32m-> 1834\u001b[0m     ret \u001b[38;5;241m=\u001b[39m \u001b[38;5;28;43minput\u001b[39;49m\u001b[38;5;241;43m.\u001b[39;49m\u001b[43msoftmax\u001b[49m\u001b[43m(\u001b[49m\u001b[43mdim\u001b[49m\u001b[43m)\u001b[49m\n\u001b[0;32m   1835\u001b[0m \u001b[38;5;28;01melse\u001b[39;00m:\n\u001b[0;32m   1836\u001b[0m     ret \u001b[38;5;241m=\u001b[39m \u001b[38;5;28minput\u001b[39m\u001b[38;5;241m.\u001b[39msoftmax(dim, dtype\u001b[38;5;241m=\u001b[39mdtype)\n",
      "\u001b[1;31mKeyboardInterrupt\u001b[0m: "
     ]
    }
   ],
   "source": [
    "\n",
    "\n",
    "# 设置工作目录\n",
    "working_dir = 'E:/doctor/自研/mapping/data/20230814final/h5/st/'\n",
    "os.chdir(working_dir)\n",
    "\n",
    "# 获取所有文件列表\n",
    "datalist = [f for f in os.listdir() if os.path.isfile(f)]\n",
    "\n",
    "# 循环遍历文件\n",
    "for i in range(2, len(datalist)):\n",
    "# for i in range(0, 1):\n",
    "    print(datalist[i])\n",
    "\n",
    "    # 读取st数据\n",
    "    st_path = os.path.join(working_dir, datalist[i])\n",
    "    st_obj = diopy.input.read_h5(st_path)\n",
    "    \n",
    "    # 根据st数据选取sc数据\n",
    "    if datalist[i] in [\"st_HIP_starmap.h5\", \"C2D2_HIP_cellbin.h5\", \"HIP_slide_seq.h5\", \"HIP_test1.h5\"]:\n",
    "        sc_obj = diopy.input.read_h5(\"E:/doctor/自研/mapping/data/20230814final/h5/sc/sc_HIP.h5\")\n",
    "        anno = 'annotation'\n",
    "\n",
    "    elif datalist[i] == \"C2D2_CB_cellbin.h5\":\n",
    "        sc_obj = diopy.input.read_h5(\"E:/doctor/自研/mapping/data/20230814final/h5/sc/sc_CB.h5\")\n",
    "        anno = 'annotation'\n",
    "\n",
    "    elif datalist[i] == \"C2D2_OB_cellbin.h5\":\n",
    "        sc_obj = diopy.input.read_h5(\"E:/doctor/自研/mapping/data/20230814final/h5/sc/sc_OB.h5\")\n",
    "        anno = 'type'\n",
    "\n",
    "    elif datalist[i] == \"st_human_CTX.h5\":\n",
    "        sc_obj = diopy.input.read_h5(\"E:/doctor/自研/mapping/data/20230814final/h5/sc/sc_human_CTX.h5\")\n",
    "        anno = 'Subclass'\n",
    "\n",
    "\n",
    "    elif datalist[i] == \"st_mouse_CTX.h5\":\n",
    "        sc_obj = diopy.input.read_h5(\"E:/doctor/自研/mapping/data/20230814final/h5/sc/sc_mouse_CTX.h5\")\n",
    "        anno = 'Type'\n",
    "       \n",
    "    #开始时间\n",
    "    start_time = time.time()\n",
    "    \n",
    "    adata_sc=sc_obj\n",
    "    adata_st=st_obj\n",
    "    sc.tl.rank_genes_groups(adata_sc,groupby=anno,use_raw=False)\n",
    "    markers_df=pd.DataFrame(adata_sc.uns[\"rank_genes_groups\"][\"names\"]).iloc[0:100,:]\n",
    "    markers=list(np.unique(markers_df.melt().value.values))\n",
    "    #去检查overlap的基因是不是都在\n",
    "    tg.pp_adatas(adata_sc,adata_st,genes=markers)\n",
    "    ad_map = tg.map_cells_to_space(adata_sc,adata_st,\n",
    "                              mode=\"cells\",\n",
    "                              density_prior='rna_count_based',\n",
    "                              num_epochs=100,\n",
    "                              device=\"cpu\")\n",
    "    tg.project_cell_annotations(ad_map,adata_st,annotation=anno)\n",
    "    annotation_list=list(pd.unique(adata_sc.obs[anno]))\n",
    "\n",
    "    print(\"saving \\n\")\n",
    "    #重写一个名称\n",
    "    name=\"E:/doctor/自研/mapping/data/20230814final/result/tangram/\"+datalist[i]+\"_tangram_prediction.csv\"\n",
    "    adata_st.obsm['tangram_ct_pred'].sort_index(axis=1).columns\n",
    "    adata_st.obsm['tangram_ct_pred'].to_csv(name)\n",
    "    \n",
    "    end_time = time.time()\n",
    "    time_diff = end_time-start_time\n",
    "    print(time_diff)\n",
    "    \n",
    "    time_name=\"E:/doctor/自研/mapping/data/20230814final/result/tangram/\"+datalist[i]+\"_tangram_prediction_time.csv\"\n",
    "    pd.Series([time_diff], name='time_diff').to_csv(time_name, header=True)\n",
    "\n"
   ]
  },
  {
   "cell_type": "code",
   "execution_count": 3,
   "id": "21fc9ea0",
   "metadata": {},
   "outputs": [
    {
     "data": {
      "text/plain": [
       "'C2D2_OB_cellbin.h5'"
      ]
     },
     "execution_count": 3,
     "metadata": {},
     "output_type": "execute_result"
    }
   ],
   "source": [
    "datalist[i]"
   ]
  },
  {
   "cell_type": "code",
   "execution_count": null,
   "id": "562770f1",
   "metadata": {},
   "outputs": [],
   "source": []
  }
 ],
 "metadata": {
  "kernelspec": {
   "display_name": "tangram",
   "language": "python",
   "name": "tangram-env"
  },
  "language_info": {
   "codemirror_mode": {
    "name": "ipython",
    "version": 3
   },
   "file_extension": ".py",
   "mimetype": "text/x-python",
   "name": "python",
   "nbconvert_exporter": "python",
   "pygments_lexer": "ipython3",
   "version": "3.8.17"
  }
 },
 "nbformat": 4,
 "nbformat_minor": 5
}
